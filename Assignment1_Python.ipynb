{
  "nbformat": 4,
  "nbformat_minor": 0,
  "metadata": {
    "colab": {
      "provenance": []
    },
    "kernelspec": {
      "name": "python3",
      "display_name": "Python 3"
    },
    "language_info": {
      "name": "python"
    }
  },
  "cells": [
    {
      "cell_type": "code",
      "execution_count": null,
      "metadata": {
        "colab": {
          "base_uri": "https://localhost:8080/"
        },
        "id": "NXIGgY3Y3_sF",
        "outputId": "f2feaf9e-5e27-466e-a63f-ee9b11d7a0c0"
      },
      "outputs": [
        {
          "output_type": "stream",
          "name": "stdout",
          "text": [
            "['Manjith Vennapusa', 'Varnu Meka', 'Ravi Chenna']\n"
          ]
        }
      ],
      "source": [
        "first_name=['Manjith','Varnu','Ravi']\n",
        "last_name=['Vennapusa','Meka','Chenna']\n",
        "full_name=[]\n",
        "for i in range(len(first_name)):\n",
        "  full_name.append(first_name[i]+' '+last_name[i])\n",
        "print(full_name)"
      ]
    },
    {
      "cell_type": "code",
      "source": [
        "from datetime import datetime\n",
        "def func(date_arg,Q_arg):\n",
        "  #Date should be in YYYYMM format\n",
        "  year_arg=date_arg[:4]\n",
        "  month_arg=date_arg[4:]\n",
        "  if(month_arg=='01'):\n",
        "    prev_month_arg='12'\n",
        "    prev_year_arg=str(int(year_arg)-1)\n",
        "  if(month_arg!='01'):\n",
        "    prev_month_arg=int(month_arg)-1\n",
        "    if(prev_month_arg<10):\n",
        "      prev_month_arg='0'+str(prev_month_arg)\n",
        "    prev_year_arg=year_arg\n",
        "  output1={\"prev_month\":prev_year_arg+prev_month_arg}\n",
        "\n",
        "  if(Q_arg=='Q1'):\n",
        "    prev_Q_arg='Q4'\n",
        "    prev_year_arg=str(int(year_arg)-1)\n",
        "    prev_quarter=prev_Q_arg+'_'+prev_year_arg\n",
        "  if(Q_arg!='Q1'):\n",
        "    prev_Q_arg='Q'+str(int(Q_arg[1])-1)\n",
        "    prev_quarter=prev_Q_arg+'_'+year_arg\n",
        "  output1['prev_quarter']=prev_quarter\n",
        "  \n",
        "  output1['future_month']=str(int(prev_year_arg)+1)+prev_month_arg\n",
        "\n",
        "  Quarter=Q_arg+'_'+year_arg\n",
        "  output1['quarter']=Quarter\n",
        "  return output1\n",
        "\n",
        "func('202208','Q3')"
      ],
      "metadata": {
        "colab": {
          "base_uri": "https://localhost:8080/"
        },
        "id": "X7kZnC7cvJCQ",
        "outputId": "a218fa40-d2f1-4dc9-89b4-5f55151377b2"
      },
      "execution_count": null,
      "outputs": [
        {
          "output_type": "execute_result",
          "data": {
            "text/plain": [
              "{'prev_month': '202207',\n",
              " 'prev_quarter': 'Q2_2022',\n",
              " 'future_month': '202307',\n",
              " 'quarter': 'Q3_2022'}"
            ]
          },
          "metadata": {},
          "execution_count": 2
        }
      ]
    }
  ]
}
